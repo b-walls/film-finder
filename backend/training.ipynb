{
 "cells": [
  {
   "cell_type": "markdown",
   "metadata": {},
   "source": [
    "# Initial Exploratory Data Analysis (EDA)\n",
    "\n",
    "In this section, we will perform an initial exploratory data analysis (EDA) on the TMDB movie dataset. This includes loading the dataset, cleaning the data, and visualizing key features to understand the distribution and relationships within the data."
   ]
  },
  {
   "cell_type": "code",
   "execution_count": 655,
   "metadata": {},
   "outputs": [],
   "source": [
    "import pandas as pd\n",
    "import numpy as np\n",
    "import matplotlib.pyplot as plt\n",
    "from sklearn.preprocessing import OneHotEncoder, StandardScaler\n",
    "from sklearn.neighbors import NearestNeighbors"
   ]
  },
  {
   "cell_type": "code",
   "execution_count": 656,
   "metadata": {},
   "outputs": [
    {
     "data": {
      "text/html": [
       "<div>\n",
       "<style scoped>\n",
       "    .dataframe tbody tr th:only-of-type {\n",
       "        vertical-align: middle;\n",
       "    }\n",
       "\n",
       "    .dataframe tbody tr th {\n",
       "        vertical-align: top;\n",
       "    }\n",
       "\n",
       "    .dataframe thead th {\n",
       "        text-align: right;\n",
       "    }\n",
       "</style>\n",
       "<table border=\"1\" class=\"dataframe\">\n",
       "  <thead>\n",
       "    <tr style=\"text-align: right;\">\n",
       "      <th></th>\n",
       "      <th>id</th>\n",
       "      <th>title</th>\n",
       "      <th>vote_average</th>\n",
       "      <th>vote_count</th>\n",
       "      <th>status</th>\n",
       "      <th>release_date</th>\n",
       "      <th>revenue</th>\n",
       "      <th>runtime</th>\n",
       "      <th>adult</th>\n",
       "      <th>backdrop_path</th>\n",
       "      <th>...</th>\n",
       "      <th>original_title</th>\n",
       "      <th>overview</th>\n",
       "      <th>popularity</th>\n",
       "      <th>poster_path</th>\n",
       "      <th>tagline</th>\n",
       "      <th>genres</th>\n",
       "      <th>production_companies</th>\n",
       "      <th>production_countries</th>\n",
       "      <th>spoken_languages</th>\n",
       "      <th>keywords</th>\n",
       "    </tr>\n",
       "  </thead>\n",
       "  <tbody>\n",
       "    <tr>\n",
       "      <th>0</th>\n",
       "      <td>27205</td>\n",
       "      <td>Inception</td>\n",
       "      <td>8.364</td>\n",
       "      <td>34495</td>\n",
       "      <td>Released</td>\n",
       "      <td>2010-07-15</td>\n",
       "      <td>825532764</td>\n",
       "      <td>148</td>\n",
       "      <td>False</td>\n",
       "      <td>/8ZTVqvKDQ8emSGUEMjsS4yHAwrp.jpg</td>\n",
       "      <td>...</td>\n",
       "      <td>Inception</td>\n",
       "      <td>Cobb, a skilled thief who commits corporate es...</td>\n",
       "      <td>83.952</td>\n",
       "      <td>/oYuLEt3zVCKq57qu2F8dT7NIa6f.jpg</td>\n",
       "      <td>Your mind is the scene of the crime.</td>\n",
       "      <td>Action, Science Fiction, Adventure</td>\n",
       "      <td>Legendary Pictures, Syncopy, Warner Bros. Pict...</td>\n",
       "      <td>United Kingdom, United States of America</td>\n",
       "      <td>English, French, Japanese, Swahili</td>\n",
       "      <td>rescue, mission, dream, airplane, paris, franc...</td>\n",
       "    </tr>\n",
       "    <tr>\n",
       "      <th>1</th>\n",
       "      <td>157336</td>\n",
       "      <td>Interstellar</td>\n",
       "      <td>8.417</td>\n",
       "      <td>32571</td>\n",
       "      <td>Released</td>\n",
       "      <td>2014-11-05</td>\n",
       "      <td>701729206</td>\n",
       "      <td>169</td>\n",
       "      <td>False</td>\n",
       "      <td>/pbrkL804c8yAv3zBZR4QPEafpAR.jpg</td>\n",
       "      <td>...</td>\n",
       "      <td>Interstellar</td>\n",
       "      <td>The adventures of a group of explorers who mak...</td>\n",
       "      <td>140.241</td>\n",
       "      <td>/gEU2QniE6E77NI6lCU6MxlNBvIx.jpg</td>\n",
       "      <td>Mankind was born on Earth. It was never meant ...</td>\n",
       "      <td>Adventure, Drama, Science Fiction</td>\n",
       "      <td>Legendary Pictures, Syncopy, Lynda Obst Produc...</td>\n",
       "      <td>United Kingdom, United States of America</td>\n",
       "      <td>English</td>\n",
       "      <td>rescue, future, spacecraft, race against time,...</td>\n",
       "    </tr>\n",
       "    <tr>\n",
       "      <th>2</th>\n",
       "      <td>155</td>\n",
       "      <td>The Dark Knight</td>\n",
       "      <td>8.512</td>\n",
       "      <td>30619</td>\n",
       "      <td>Released</td>\n",
       "      <td>2008-07-16</td>\n",
       "      <td>1004558444</td>\n",
       "      <td>152</td>\n",
       "      <td>False</td>\n",
       "      <td>/nMKdUUepR0i5zn0y1T4CsSB5chy.jpg</td>\n",
       "      <td>...</td>\n",
       "      <td>The Dark Knight</td>\n",
       "      <td>Batman raises the stakes in his war on crime. ...</td>\n",
       "      <td>130.643</td>\n",
       "      <td>/qJ2tW6WMUDux911r6m7haRef0WH.jpg</td>\n",
       "      <td>Welcome to a world without rules.</td>\n",
       "      <td>Drama, Action, Crime, Thriller</td>\n",
       "      <td>DC Comics, Legendary Pictures, Syncopy, Isobel...</td>\n",
       "      <td>United Kingdom, United States of America</td>\n",
       "      <td>English, Mandarin</td>\n",
       "      <td>joker, sadism, chaos, secret identity, crime f...</td>\n",
       "    </tr>\n",
       "    <tr>\n",
       "      <th>3</th>\n",
       "      <td>19995</td>\n",
       "      <td>Avatar</td>\n",
       "      <td>7.573</td>\n",
       "      <td>29815</td>\n",
       "      <td>Released</td>\n",
       "      <td>2009-12-15</td>\n",
       "      <td>2923706026</td>\n",
       "      <td>162</td>\n",
       "      <td>False</td>\n",
       "      <td>/vL5LR6WdxWPjLPFRLe133jXWsh5.jpg</td>\n",
       "      <td>...</td>\n",
       "      <td>Avatar</td>\n",
       "      <td>In the 22nd century, a paraplegic Marine is di...</td>\n",
       "      <td>79.932</td>\n",
       "      <td>/kyeqWdyUXW608qlYkRqosgbbJyK.jpg</td>\n",
       "      <td>Enter the world of Pandora.</td>\n",
       "      <td>Action, Adventure, Fantasy, Science Fiction</td>\n",
       "      <td>Dune Entertainment, Lightstorm Entertainment, ...</td>\n",
       "      <td>United States of America, United Kingdom</td>\n",
       "      <td>English, Spanish</td>\n",
       "      <td>future, society, culture clash, space travel, ...</td>\n",
       "    </tr>\n",
       "    <tr>\n",
       "      <th>4</th>\n",
       "      <td>24428</td>\n",
       "      <td>The Avengers</td>\n",
       "      <td>7.710</td>\n",
       "      <td>29166</td>\n",
       "      <td>Released</td>\n",
       "      <td>2012-04-25</td>\n",
       "      <td>1518815515</td>\n",
       "      <td>143</td>\n",
       "      <td>False</td>\n",
       "      <td>/9BBTo63ANSmhC4e6r62OJFuK2GL.jpg</td>\n",
       "      <td>...</td>\n",
       "      <td>The Avengers</td>\n",
       "      <td>When an unexpected enemy emerges and threatens...</td>\n",
       "      <td>98.082</td>\n",
       "      <td>/RYMX2wcKCBAr24UyPD7xwmjaTn.jpg</td>\n",
       "      <td>Some assembly required.</td>\n",
       "      <td>Science Fiction, Action, Adventure</td>\n",
       "      <td>Marvel Studios</td>\n",
       "      <td>United States of America</td>\n",
       "      <td>English, Hindi, Russian</td>\n",
       "      <td>new york city, superhero, shield, based on com...</td>\n",
       "    </tr>\n",
       "  </tbody>\n",
       "</table>\n",
       "<p>5 rows × 24 columns</p>\n",
       "</div>"
      ],
      "text/plain": [
       "       id            title  vote_average  vote_count    status release_date  \\\n",
       "0   27205        Inception         8.364       34495  Released   2010-07-15   \n",
       "1  157336     Interstellar         8.417       32571  Released   2014-11-05   \n",
       "2     155  The Dark Knight         8.512       30619  Released   2008-07-16   \n",
       "3   19995           Avatar         7.573       29815  Released   2009-12-15   \n",
       "4   24428     The Avengers         7.710       29166  Released   2012-04-25   \n",
       "\n",
       "      revenue  runtime  adult                     backdrop_path  ...  \\\n",
       "0   825532764      148  False  /8ZTVqvKDQ8emSGUEMjsS4yHAwrp.jpg  ...   \n",
       "1   701729206      169  False  /pbrkL804c8yAv3zBZR4QPEafpAR.jpg  ...   \n",
       "2  1004558444      152  False  /nMKdUUepR0i5zn0y1T4CsSB5chy.jpg  ...   \n",
       "3  2923706026      162  False  /vL5LR6WdxWPjLPFRLe133jXWsh5.jpg  ...   \n",
       "4  1518815515      143  False  /9BBTo63ANSmhC4e6r62OJFuK2GL.jpg  ...   \n",
       "\n",
       "    original_title                                           overview  \\\n",
       "0        Inception  Cobb, a skilled thief who commits corporate es...   \n",
       "1     Interstellar  The adventures of a group of explorers who mak...   \n",
       "2  The Dark Knight  Batman raises the stakes in his war on crime. ...   \n",
       "3           Avatar  In the 22nd century, a paraplegic Marine is di...   \n",
       "4     The Avengers  When an unexpected enemy emerges and threatens...   \n",
       "\n",
       "  popularity                       poster_path  \\\n",
       "0     83.952  /oYuLEt3zVCKq57qu2F8dT7NIa6f.jpg   \n",
       "1    140.241  /gEU2QniE6E77NI6lCU6MxlNBvIx.jpg   \n",
       "2    130.643  /qJ2tW6WMUDux911r6m7haRef0WH.jpg   \n",
       "3     79.932  /kyeqWdyUXW608qlYkRqosgbbJyK.jpg   \n",
       "4     98.082   /RYMX2wcKCBAr24UyPD7xwmjaTn.jpg   \n",
       "\n",
       "                                             tagline  \\\n",
       "0               Your mind is the scene of the crime.   \n",
       "1  Mankind was born on Earth. It was never meant ...   \n",
       "2                  Welcome to a world without rules.   \n",
       "3                        Enter the world of Pandora.   \n",
       "4                            Some assembly required.   \n",
       "\n",
       "                                        genres  \\\n",
       "0           Action, Science Fiction, Adventure   \n",
       "1            Adventure, Drama, Science Fiction   \n",
       "2               Drama, Action, Crime, Thriller   \n",
       "3  Action, Adventure, Fantasy, Science Fiction   \n",
       "4           Science Fiction, Action, Adventure   \n",
       "\n",
       "                                production_companies  \\\n",
       "0  Legendary Pictures, Syncopy, Warner Bros. Pict...   \n",
       "1  Legendary Pictures, Syncopy, Lynda Obst Produc...   \n",
       "2  DC Comics, Legendary Pictures, Syncopy, Isobel...   \n",
       "3  Dune Entertainment, Lightstorm Entertainment, ...   \n",
       "4                                     Marvel Studios   \n",
       "\n",
       "                       production_countries  \\\n",
       "0  United Kingdom, United States of America   \n",
       "1  United Kingdom, United States of America   \n",
       "2  United Kingdom, United States of America   \n",
       "3  United States of America, United Kingdom   \n",
       "4                  United States of America   \n",
       "\n",
       "                     spoken_languages  \\\n",
       "0  English, French, Japanese, Swahili   \n",
       "1                             English   \n",
       "2                   English, Mandarin   \n",
       "3                    English, Spanish   \n",
       "4             English, Hindi, Russian   \n",
       "\n",
       "                                            keywords  \n",
       "0  rescue, mission, dream, airplane, paris, franc...  \n",
       "1  rescue, future, spacecraft, race against time,...  \n",
       "2  joker, sadism, chaos, secret identity, crime f...  \n",
       "3  future, society, culture clash, space travel, ...  \n",
       "4  new york city, superhero, shield, based on com...  \n",
       "\n",
       "[5 rows x 24 columns]"
      ]
     },
     "execution_count": 656,
     "metadata": {},
     "output_type": "execute_result"
    }
   ],
   "source": [
    "df = pd.read_csv(\"./data/TMDB_movie_dataset_v11.csv\")\n",
    "df.head()"
   ]
  },
  {
   "cell_type": "code",
   "execution_count": 661,
   "metadata": {},
   "outputs": [
    {
     "data": {
      "text/plain": [
       "Index(['id', 'title', 'vote_average', 'vote_count', 'status', 'release_date',\n",
       "       'revenue', 'runtime', 'adult', 'backdrop_path', 'budget', 'homepage',\n",
       "       'imdb_id', 'original_language', 'original_title', 'overview',\n",
       "       'popularity', 'poster_path', 'tagline', 'genres',\n",
       "       'production_companies', 'production_countries', 'spoken_languages',\n",
       "       'keywords'],\n",
       "      dtype='object')"
      ]
     },
     "execution_count": 661,
     "metadata": {},
     "output_type": "execute_result"
    }
   ],
   "source": [
    "df.columns"
   ]
  },
  {
   "cell_type": "code",
   "execution_count": 662,
   "metadata": {},
   "outputs": [
    {
     "data": {
      "text/plain": [
       "0          English, French, Japanese, Swahili\n",
       "1                                     English\n",
       "2                           English, Mandarin\n",
       "3                            English, Spanish\n",
       "4                     English, Hindi, Russian\n",
       "                          ...                \n",
       "1171695                              Mandarin\n",
       "1171696                               English\n",
       "1171697                       Basque, Spanish\n",
       "1171698                               Swedish\n",
       "1171699                                   NaN\n",
       "Name: spoken_languages, Length: 1171700, dtype: object"
      ]
     },
     "execution_count": 662,
     "metadata": {},
     "output_type": "execute_result"
    }
   ],
   "source": [
    "df['spoken_languages']"
   ]
  },
  {
   "cell_type": "code",
   "execution_count": null,
   "metadata": {},
   "outputs": [],
   "source": []
  },
  {
   "cell_type": "markdown",
   "metadata": {},
   "source": [
    "## Cleaning and Extracting Relevant Features"
   ]
  },
  {
   "cell_type": "code",
   "execution_count": 665,
   "metadata": {},
   "outputs": [],
   "source": [
    "df = df[['production_countries', 'popularity', \"title\", \"vote_average\", \"vote_count\", \"release_date\", \"overview\", \"genres\", \"keywords\", \"production_companies\", \"poster_path\", \"imdb_id\"]]"
   ]
  },
  {
   "cell_type": "code",
   "execution_count": 666,
   "metadata": {},
   "outputs": [
    {
     "data": {
      "text/plain": [
       "production_countries    525858\n",
       "popularity                   0\n",
       "title                       13\n",
       "vote_average                 0\n",
       "vote_count                   0\n",
       "release_date            202010\n",
       "overview                242810\n",
       "genres                  475846\n",
       "keywords                858466\n",
       "production_companies    646233\n",
       "poster_path             376408\n",
       "imdb_id                 560684\n",
       "dtype: int64"
      ]
     },
     "execution_count": 666,
     "metadata": {},
     "output_type": "execute_result"
    }
   ],
   "source": [
    "df.isna().sum()"
   ]
  },
  {
   "cell_type": "code",
   "execution_count": 667,
   "metadata": {},
   "outputs": [],
   "source": [
    "df = df.dropna(subset=[col for col in df.columns if col != \"imdb_id\"])"
   ]
  },
  {
   "cell_type": "code",
   "execution_count": 668,
   "metadata": {},
   "outputs": [
    {
     "data": {
      "text/plain": [
       "142606"
      ]
     },
     "execution_count": 668,
     "metadata": {},
     "output_type": "execute_result"
    }
   ],
   "source": [
    "len(df)"
   ]
  },
  {
   "cell_type": "markdown",
   "metadata": {},
   "source": [
    "## Visualizing rating distributions"
   ]
  },
  {
   "cell_type": "code",
   "execution_count": 669,
   "metadata": {},
   "outputs": [
    {
     "name": "stderr",
     "output_type": "stream",
     "text": [
      "c:\\Users\\Brendan\\anaconda3\\Lib\\site-packages\\seaborn\\_oldcore.py:1119: FutureWarning: use_inf_as_na option is deprecated and will be removed in a future version. Convert inf values to NaN before operating instead.\n",
      "  with pd.option_context('mode.use_inf_as_na', True):\n"
     ]
    },
    {
     "data": {
      "image/png": "[encoded data removed]",
      "text/plain": [
       "<Figure size 640x480 with 1 Axes>"
      ]
     },
     "metadata": {},
     "output_type": "display_data"
    }
   ],
   "source": [
    "import seaborn as sns\n",
    "import matplotlib.pyplot as plt\n",
    "df = df[df[\"vote_count\"] > 0]\n",
    "log_vote_count = np.log(df[\"vote_count\"])\n",
    "sns.histplot(log_vote_count, bins=50, kde=True)\n",
    "plt.title(\"Distribution of Vote Counts\")\n",
    "plt.xlabel(\"\")\n",
    "plt.show()"
   ]
  },
  {
   "cell_type": "code",
   "execution_count": 670,
   "metadata": {},
   "outputs": [
    {
     "name": "stderr",
     "output_type": "stream",
     "text": [
      "c:\\Users\\Brendan\\anaconda3\\Lib\\site-packages\\seaborn\\_oldcore.py:1119: FutureWarning: use_inf_as_na option is deprecated and will be removed in a future version. Convert inf values to NaN before operating instead.\n",
      "  with pd.option_context('mode.use_inf_as_na', True):\n"
     ]
    },
    {
     "data": {
      "image/png": "[encoded data removed]",
      "text/plain": [
       "<Figure size 640x480 with 1 Axes>"
      ]
     },
     "metadata": {},
     "output_type": "display_data"
    }
   ],
   "source": [
    "sns.histplot(df[\"vote_average\"], kde=True)\n",
    "plt.title(\"Distribution of Vote Averages\")\n",
    "plt.xlabel(\"\")\n",
    "plt.show()"
   ]
  },
  {
   "cell_type": "code",
   "execution_count": 671,
   "metadata": {},
   "outputs": [
    {
     "data": {
      "text/plain": [
       "count    105516.000000\n",
       "mean          6.087168\n",
       "std           1.555672\n",
       "min           0.000000\n",
       "25%           5.200000\n",
       "50%           6.100000\n",
       "75%           7.000000\n",
       "max          10.000000\n",
       "Name: vote_average, dtype: float64"
      ]
     },
     "execution_count": 671,
     "metadata": {},
     "output_type": "execute_result"
    }
   ],
   "source": [
    "df[\"vote_average\"].describe()"
   ]
  },
  {
   "cell_type": "code",
   "execution_count": 675,
   "metadata": {},
   "outputs": [],
   "source": [
    "m = df[\"vote_count\"].quantile(0.90)"
   ]
  },
  {
   "cell_type": "code",
   "execution_count": 676,
   "metadata": {},
   "outputs": [
    {
     "data": {
      "text/plain": [
       "2034.0"
      ]
     },
     "execution_count": 676,
     "metadata": {},
     "output_type": "execute_result"
    }
   ],
   "source": [
    "m"
   ]
  },
  {
   "cell_type": "code",
   "execution_count": 678,
   "metadata": {},
   "outputs": [
    {
     "data": {
      "text/html": [
       "<div>\n",
       "<style scoped>\n",
       "    .dataframe tbody tr th:only-of-type {\n",
       "        vertical-align: middle;\n",
       "    }\n",
       "\n",
       "    .dataframe tbody tr th {\n",
       "        vertical-align: top;\n",
       "    }\n",
       "\n",
       "    .dataframe thead th {\n",
       "        text-align: right;\n",
       "    }\n",
       "</style>\n",
       "<table border=\"1\" class=\"dataframe\">\n",
       "  <thead>\n",
       "    <tr style=\"text-align: right;\">\n",
       "      <th></th>\n",
       "      <th>production_countries</th>\n",
       "      <th>popularity</th>\n",
       "      <th>title</th>\n",
       "      <th>vote_average</th>\n",
       "      <th>vote_count</th>\n",
       "      <th>release_date</th>\n",
       "      <th>overview</th>\n",
       "      <th>genres</th>\n",
       "      <th>keywords</th>\n",
       "      <th>production_companies</th>\n",
       "      <th>poster_path</th>\n",
       "      <th>imdb_id</th>\n",
       "    </tr>\n",
       "  </thead>\n",
       "  <tbody>\n",
       "    <tr>\n",
       "      <th>0</th>\n",
       "      <td>United Kingdom, United States of America</td>\n",
       "      <td>83.952</td>\n",
       "      <td>Inception</td>\n",
       "      <td>8.364</td>\n",
       "      <td>34495</td>\n",
       "      <td>2010-07-15</td>\n",
       "      <td>Cobb, a skilled thief who commits corporate es...</td>\n",
       "      <td>Action, Science Fiction, Adventure</td>\n",
       "      <td>rescue, mission, dream, airplane, paris, franc...</td>\n",
       "      <td>Legendary Pictures, Syncopy, Warner Bros. Pict...</td>\n",
       "      <td>/oYuLEt3zVCKq57qu2F8dT7NIa6f.jpg</td>\n",
       "      <td>tt1375666</td>\n",
       "    </tr>\n",
       "    <tr>\n",
       "      <th>1</th>\n",
       "      <td>United Kingdom, United States of America</td>\n",
       "      <td>140.241</td>\n",
       "      <td>Interstellar</td>\n",
       "      <td>8.417</td>\n",
       "      <td>32571</td>\n",
       "      <td>2014-11-05</td>\n",
       "      <td>The adventures of a group of explorers who mak...</td>\n",
       "      <td>Adventure, Drama, Science Fiction</td>\n",
       "      <td>rescue, future, spacecraft, race against time,...</td>\n",
       "      <td>Legendary Pictures, Syncopy, Lynda Obst Produc...</td>\n",
       "      <td>/gEU2QniE6E77NI6lCU6MxlNBvIx.jpg</td>\n",
       "      <td>tt0816692</td>\n",
       "    </tr>\n",
       "    <tr>\n",
       "      <th>2</th>\n",
       "      <td>United Kingdom, United States of America</td>\n",
       "      <td>130.643</td>\n",
       "      <td>The Dark Knight</td>\n",
       "      <td>8.512</td>\n",
       "      <td>30619</td>\n",
       "      <td>2008-07-16</td>\n",
       "      <td>Batman raises the stakes in his war on crime. ...</td>\n",
       "      <td>Drama, Action, Crime, Thriller</td>\n",
       "      <td>joker, sadism, chaos, secret identity, crime f...</td>\n",
       "      <td>DC Comics, Legendary Pictures, Syncopy, Isobel...</td>\n",
       "      <td>/qJ2tW6WMUDux911r6m7haRef0WH.jpg</td>\n",
       "      <td>tt0468569</td>\n",
       "    </tr>\n",
       "    <tr>\n",
       "      <th>3</th>\n",
       "      <td>United States of America, United Kingdom</td>\n",
       "      <td>79.932</td>\n",
       "      <td>Avatar</td>\n",
       "      <td>7.573</td>\n",
       "      <td>29815</td>\n",
       "      <td>2009-12-15</td>\n",
       "      <td>In the 22nd century, a paraplegic Marine is di...</td>\n",
       "      <td>Action, Adventure, Fantasy, Science Fiction</td>\n",
       "      <td>future, society, culture clash, space travel, ...</td>\n",
       "      <td>Dune Entertainment, Lightstorm Entertainment, ...</td>\n",
       "      <td>/kyeqWdyUXW608qlYkRqosgbbJyK.jpg</td>\n",
       "      <td>tt0499549</td>\n",
       "    </tr>\n",
       "    <tr>\n",
       "      <th>4</th>\n",
       "      <td>United States of America</td>\n",
       "      <td>98.082</td>\n",
       "      <td>The Avengers</td>\n",
       "      <td>7.710</td>\n",
       "      <td>29166</td>\n",
       "      <td>2012-04-25</td>\n",
       "      <td>When an unexpected enemy emerges and threatens...</td>\n",
       "      <td>Science Fiction, Action, Adventure</td>\n",
       "      <td>new york city, superhero, shield, based on com...</td>\n",
       "      <td>Marvel Studios</td>\n",
       "      <td>/RYMX2wcKCBAr24UyPD7xwmjaTn.jpg</td>\n",
       "      <td>tt0848228</td>\n",
       "    </tr>\n",
       "    <tr>\n",
       "      <th>...</th>\n",
       "      <td>...</td>\n",
       "      <td>...</td>\n",
       "      <td>...</td>\n",
       "      <td>...</td>\n",
       "      <td>...</td>\n",
       "      <td>...</td>\n",
       "      <td>...</td>\n",
       "      <td>...</td>\n",
       "      <td>...</td>\n",
       "      <td>...</td>\n",
       "      <td>...</td>\n",
       "      <td>...</td>\n",
       "    </tr>\n",
       "    <tr>\n",
       "      <th>2127</th>\n",
       "      <td>United States of America</td>\n",
       "      <td>14.476</td>\n",
       "      <td>Just Mercy</td>\n",
       "      <td>7.903</td>\n",
       "      <td>2036</td>\n",
       "      <td>2019-12-25</td>\n",
       "      <td>The powerful true story of Harvard-educated la...</td>\n",
       "      <td>Drama, Crime, History</td>\n",
       "      <td>judge, innocence, based on true story, lawyer,...</td>\n",
       "      <td>Netter Productions, Outlier Society Production...</td>\n",
       "      <td>/4YJNp1cquIkX8JxFwkKNEFQ9tgr.jpg</td>\n",
       "      <td>tt4916630</td>\n",
       "    </tr>\n",
       "    <tr>\n",
       "      <th>2128</th>\n",
       "      <td>France, United Kingdom, United States of America</td>\n",
       "      <td>15.735</td>\n",
       "      <td>Trance</td>\n",
       "      <td>6.630</td>\n",
       "      <td>2035</td>\n",
       "      <td>2013-03-27</td>\n",
       "      <td>A violent gang enlists the help of a hypnother...</td>\n",
       "      <td>Thriller, Crime, Drama, Mystery</td>\n",
       "      <td>amnesia, heist, art thief, hypnotism, duringcr...</td>\n",
       "      <td>Pathé, Decibel Films, Film4 Productions, Cloud...</td>\n",
       "      <td>/3MVYuyVknNA9yC0Gy6z3zDAiWfX.jpg</td>\n",
       "      <td>tt1924429</td>\n",
       "    </tr>\n",
       "    <tr>\n",
       "      <th>2129</th>\n",
       "      <td>China, United States of America</td>\n",
       "      <td>1567.273</td>\n",
       "      <td>Meg 2: The Trench</td>\n",
       "      <td>6.912</td>\n",
       "      <td>2034</td>\n",
       "      <td>2023-08-02</td>\n",
       "      <td>An exploratory dive into the deepest depths of...</td>\n",
       "      <td>Action, Science Fiction, Horror</td>\n",
       "      <td>based on novel or book, sequel, shark, kaiju, ...</td>\n",
       "      <td>Apelles Entertainment, Warner Bros. Pictures, ...</td>\n",
       "      <td>/4m1Au3YkjqsxF8iwQy0fPYSxE0h.jpg</td>\n",
       "      <td>tt9224104</td>\n",
       "    </tr>\n",
       "    <tr>\n",
       "      <th>2130</th>\n",
       "      <td>United States of America</td>\n",
       "      <td>40.707</td>\n",
       "      <td>Spy Kids 3-D: Game Over</td>\n",
       "      <td>5.100</td>\n",
       "      <td>2034</td>\n",
       "      <td>2003-07-25</td>\n",
       "      <td>Carmen's caught in a virtual reality game desi...</td>\n",
       "      <td>Action, Adventure, Comedy, Family, Science Fic...</td>\n",
       "      <td>mission, artificial intelligence (a.i.), video...</td>\n",
       "      <td>Dimension Films</td>\n",
       "      <td>/oP53PyexPlQd1xDt8kkvX5LdQdT.jpg</td>\n",
       "      <td>tt0338459</td>\n",
       "    </tr>\n",
       "    <tr>\n",
       "      <th>2131</th>\n",
       "      <td>United Kingdom, United States of America</td>\n",
       "      <td>12.944</td>\n",
       "      <td>The Men Who Stare at Goats</td>\n",
       "      <td>5.967</td>\n",
       "      <td>2034</td>\n",
       "      <td>2009-10-17</td>\n",
       "      <td>A reporter in Iraq might just have the story o...</td>\n",
       "      <td>Comedy, War</td>\n",
       "      <td>vietnam veteran, kuwait, new age, paranoid fan...</td>\n",
       "      <td>Ruby Films, BBC Film, Smoke House Pictures, Ov...</td>\n",
       "      <td>/5boJKypPQmgABssbKOk2RvsCnSv.jpg</td>\n",
       "      <td>tt1234548</td>\n",
       "    </tr>\n",
       "  </tbody>\n",
       "</table>\n",
       "<p>2128 rows × 12 columns</p>\n",
       "</div>"
      ],
      "text/plain": [
       "                                  production_countries  popularity  \\\n",
       "0             United Kingdom, United States of America      83.952   \n",
       "1             United Kingdom, United States of America     140.241   \n",
       "2             United Kingdom, United States of America     130.643   \n",
       "3             United States of America, United Kingdom      79.932   \n",
       "4                             United States of America      98.082   \n",
       "...                                                ...         ...   \n",
       "2127                          United States of America      14.476   \n",
       "2128  France, United Kingdom, United States of America      15.735   \n",
       "2129                   China, United States of America    1567.273   \n",
       "2130                          United States of America      40.707   \n",
       "2131          United Kingdom, United States of America      12.944   \n",
       "\n",
       "                           title  vote_average  vote_count release_date  \\\n",
       "0                      Inception         8.364       34495   2010-07-15   \n",
       "1                   Interstellar         8.417       32571   2014-11-05   \n",
       "2                The Dark Knight         8.512       30619   2008-07-16   \n",
       "3                         Avatar         7.573       29815   2009-12-15   \n",
       "4                   The Avengers         7.710       29166   2012-04-25   \n",
       "...                          ...           ...         ...          ...   \n",
       "2127                  Just Mercy         7.903        2036   2019-12-25   \n",
       "2128                      Trance         6.630        2035   2013-03-27   \n",
       "2129           Meg 2: The Trench         6.912        2034   2023-08-02   \n",
       "2130     Spy Kids 3-D: Game Over         5.100        2034   2003-07-25   \n",
       "2131  The Men Who Stare at Goats         5.967        2034   2009-10-17   \n",
       "\n",
       "                                               overview  \\\n",
       "0     Cobb, a skilled thief who commits corporate es...   \n",
       "1     The adventures of a group of explorers who mak...   \n",
       "2     Batman raises the stakes in his war on crime. ...   \n",
       "3     In the 22nd century, a paraplegic Marine is di...   \n",
       "4     When an unexpected enemy emerges and threatens...   \n",
       "...                                                 ...   \n",
       "2127  The powerful true story of Harvard-educated la...   \n",
       "2128  A violent gang enlists the help of a hypnother...   \n",
       "2129  An exploratory dive into the deepest depths of...   \n",
       "2130  Carmen's caught in a virtual reality game desi...   \n",
       "2131  A reporter in Iraq might just have the story o...   \n",
       "\n",
       "                                                 genres  \\\n",
       "0                    Action, Science Fiction, Adventure   \n",
       "1                     Adventure, Drama, Science Fiction   \n",
       "2                        Drama, Action, Crime, Thriller   \n",
       "3           Action, Adventure, Fantasy, Science Fiction   \n",
       "4                    Science Fiction, Action, Adventure   \n",
       "...                                                 ...   \n",
       "2127                              Drama, Crime, History   \n",
       "2128                    Thriller, Crime, Drama, Mystery   \n",
       "2129                    Action, Science Fiction, Horror   \n",
       "2130  Action, Adventure, Comedy, Family, Science Fic...   \n",
       "2131                                        Comedy, War   \n",
       "\n",
       "                                               keywords  \\\n",
       "0     rescue, mission, dream, airplane, paris, franc...   \n",
       "1     rescue, future, spacecraft, race against time,...   \n",
       "2     joker, sadism, chaos, secret identity, crime f...   \n",
       "3     future, society, culture clash, space travel, ...   \n",
       "4     new york city, superhero, shield, based on com...   \n",
       "...                                                 ...   \n",
       "2127  judge, innocence, based on true story, lawyer,...   \n",
       "2128  amnesia, heist, art thief, hypnotism, duringcr...   \n",
       "2129  based on novel or book, sequel, shark, kaiju, ...   \n",
       "2130  mission, artificial intelligence (a.i.), video...   \n",
       "2131  vietnam veteran, kuwait, new age, paranoid fan...   \n",
       "\n",
       "                                   production_companies  \\\n",
       "0     Legendary Pictures, Syncopy, Warner Bros. Pict...   \n",
       "1     Legendary Pictures, Syncopy, Lynda Obst Produc...   \n",
       "2     DC Comics, Legendary Pictures, Syncopy, Isobel...   \n",
       "3     Dune Entertainment, Lightstorm Entertainment, ...   \n",
       "4                                        Marvel Studios   \n",
       "...                                                 ...   \n",
       "2127  Netter Productions, Outlier Society Production...   \n",
       "2128  Pathé, Decibel Films, Film4 Productions, Cloud...   \n",
       "2129  Apelles Entertainment, Warner Bros. Pictures, ...   \n",
       "2130                                    Dimension Films   \n",
       "2131  Ruby Films, BBC Film, Smoke House Pictures, Ov...   \n",
       "\n",
       "                           poster_path    imdb_id  \n",
       "0     /oYuLEt3zVCKq57qu2F8dT7NIa6f.jpg  tt1375666  \n",
       "1     /gEU2QniE6E77NI6lCU6MxlNBvIx.jpg  tt0816692  \n",
       "2     /qJ2tW6WMUDux911r6m7haRef0WH.jpg  tt0468569  \n",
       "3     /kyeqWdyUXW608qlYkRqosgbbJyK.jpg  tt0499549  \n",
       "4      /RYMX2wcKCBAr24UyPD7xwmjaTn.jpg  tt0848228  \n",
       "...                                ...        ...  \n",
       "2127  /4YJNp1cquIkX8JxFwkKNEFQ9tgr.jpg  tt4916630  \n",
       "2128  /3MVYuyVknNA9yC0Gy6z3zDAiWfX.jpg  tt1924429  \n",
       "2129  /4m1Au3YkjqsxF8iwQy0fPYSxE0h.jpg  tt9224104  \n",
       "2130  /oP53PyexPlQd1xDt8kkvX5LdQdT.jpg  tt0338459  \n",
       "2131  /5boJKypPQmgABssbKOk2RvsCnSv.jpg  tt1234548  \n",
       "\n",
       "[2128 rows x 12 columns]"
      ]
     },
     "execution_count": 678,
     "metadata": {},
     "output_type": "execute_result"
    }
   ],
   "source": [
    "df = df[df[\"vote_count\"] >= m]\n",
    "df"
   ]
  },
  {
   "cell_type": "markdown",
   "metadata": {},
   "source": [
    "## Feature Engineering"
   ]
  },
  {
   "cell_type": "markdown",
   "metadata": {},
   "source": [
    "Using IMDB\"s weighted rating we can get a more statistically significant value to quantify each movie\"s ratings."
   ]
  },
  {
   "cell_type": "code",
   "execution_count": 679,
   "metadata": {},
   "outputs": [],
   "source": [
    "C = df[\"vote_average\"].mean()\n",
    "def weighted_score(df):\n",
    "    v = df[\"vote_count\"]\n",
    "    R = df[\"vote_average\"]\n",
    "\n",
    "    return ((v/(v+m)) * R) + ((m/(v+m)) * C)"
   ]
  },
  {
   "cell_type": "code",
   "execution_count": 680,
   "metadata": {},
   "outputs": [
    {
     "data": {
      "text/plain": [
       "0       8.284905\n",
       "1       8.330393\n",
       "2       8.414297\n",
       "3       7.532799\n",
       "4       7.660032\n",
       "          ...   \n",
       "2127    7.423497\n",
       "2128    6.786723\n",
       "2129    6.927762\n",
       "2130    6.021762\n",
       "2131    6.455262\n",
       "Name: weighted_rating, Length: 2128, dtype: float64"
      ]
     },
     "execution_count": 680,
     "metadata": {},
     "output_type": "execute_result"
    }
   ],
   "source": [
    "df[\"weighted_rating\"] = df.apply(weighted_score, axis=1)\n",
    "df[\"weighted_rating\"]"
   ]
  },
  {
   "cell_type": "code",
   "execution_count": 681,
   "metadata": {},
   "outputs": [],
   "source": [
    "df = df.sort_values(by=\"weighted_rating\", ascending=False)\n",
    "df['weighted_rating'].head()\n",
    "df = df.drop_duplicates(subset=['title'], keep=\"first\")"
   ]
  },
  {
   "cell_type": "code",
   "execution_count": 682,
   "metadata": {},
   "outputs": [],
   "source": [
    "df = df.drop(columns=[\"vote_count\"])"
   ]
  },
  {
   "cell_type": "code",
   "execution_count": 683,
   "metadata": {},
   "outputs": [],
   "source": [
    "df[\"release_date\"] = pd.to_datetime(df[\"release_date\"])\n",
    "df[\"release_year\"] = df[\"release_date\"].dt.year\n",
    "df[\"release_year\"]\n",
    "df = df.drop(columns=[\"release_date\"])"
   ]
  },
  {
   "cell_type": "code",
   "execution_count": 684,
   "metadata": {},
   "outputs": [],
   "source": [
    "def bin_year(year):\n",
    "  if year < 1950:\n",
    "    return \"pre-1950\"\n",
    "  elif year < 1960:\n",
    "    return \"1950s\"\n",
    "  elif year < 1970:\n",
    "    return \"1960s\"\n",
    "  elif year < 1980:\n",
    "    return \"1970s\"\n",
    "  elif year < 1990:\n",
    "    return \"1980s\"\n",
    "  elif year < 2000:\n",
    "    return \"1990s\"\n",
    "  elif year < 2010:\n",
    "    return \"2000s\"\n",
    "  elif year < 2020:\n",
    "    return \"2010s\"\n",
    "  else:\n",
    "    return \"2020s\"\n",
    "  \n",
    "df[\"release_year\"] = df[\"release_year\"].apply(bin_year)"
   ]
  },
  {
   "cell_type": "markdown",
   "metadata": {},
   "source": [
    "## Word2Vec implementation for Genres and Keywords\n",
    "In this project, we use **Word2Vec embeddings** to represent movie genres and keywords as dense vectors. Unlike one-hot encoding, which creates sparse high-dimensional vectors, Word2Vec captures **semantic relationships** between words. This allows the model to learn meaningful connections between movies based on their metadata."
   ]
  },
  {
   "cell_type": "code",
   "execution_count": 685,
   "metadata": {},
   "outputs": [],
   "source": [
    "from gensim.models import Word2Vec\n",
    "import gensim\n",
    "import re\n"
   ]
  },
  {
   "cell_type": "code",
   "execution_count": 686,
   "metadata": {},
   "outputs": [
    {
     "name": "stderr",
     "output_type": "stream",
     "text": [
      "[nltk_data] Downloading package punkt to\n",
      "[nltk_data]     C:\\Users\\Brendan\\AppData\\Roaming\\nltk_data...\n",
      "[nltk_data]   Package punkt is already up-to-date!\n",
      "[nltk_data] Downloading package stopwords to\n",
      "[nltk_data]     C:\\Users\\Brendan\\AppData\\Roaming\\nltk_data...\n",
      "[nltk_data]   Package stopwords is already up-to-date!\n"
     ]
    }
   ],
   "source": [
    "import nltk\n",
    "from nltk.corpus import stopwords\n",
    "from nltk.tokenize import word_tokenize\n",
    "\n",
    "nltk.download('punkt')\n",
    "nltk.download('stopwords')\n",
    "\n",
    "def preprocess_text(text):\n",
    "    stop_words = set(stopwords.words('english'))\n",
    "    tokens = word_tokenize(text.lower())\n",
    "    tokens = [word for word in tokens if word.isalpha() and word not in stop_words]\n",
    "    return tokens"
   ]
  },
  {
   "cell_type": "code",
   "execution_count": 687,
   "metadata": {},
   "outputs": [],
   "source": [
    "df['overview'] = df['overview'].apply(preprocess_text)"
   ]
  },
  {
   "cell_type": "code",
   "execution_count": 688,
   "metadata": {},
   "outputs": [],
   "source": [
    "df['genres'] = df['genres'].apply(preprocess_text)"
   ]
  },
  {
   "cell_type": "code",
   "execution_count": 689,
   "metadata": {},
   "outputs": [],
   "source": [
    "df['keywords'] = df['keywords'].apply(preprocess_text)"
   ]
  },
  {
   "cell_type": "code",
   "execution_count": 690,
   "metadata": {},
   "outputs": [
    {
     "data": {
      "text/plain": [
       "14                            [castle rock entertainment]\n",
       "53                        [paramount, alfran productions]\n",
       "2       [dc comics, legendary pictures, syncopy, isobe...\n",
       "9                   [miramax, a band apart, jersey films]\n",
       "119                                [amblin entertainment]\n",
       "                              ...                        \n",
       "519     [dc entertainment, de line pictures, warner br...\n",
       "1454    [village roadshow pictures, di novi pictures, ...\n",
       "1199    [paramount, nickelodeon movies, blinding edge ...\n",
       "1174                [vertigo entertainment, lin pictures]\n",
       "912     [dc comics, polygram filmed entertainment, war...\n",
       "Name: production_companies, Length: 2088, dtype: object"
      ]
     },
     "execution_count": 690,
     "metadata": {},
     "output_type": "execute_result"
    }
   ],
   "source": [
    "df['production_companies'] = df['production_companies'].str.lower().str.split(\", \")\n",
    "df['production_companies']"
   ]
  },
  {
   "cell_type": "code",
   "execution_count": 691,
   "metadata": {},
   "outputs": [
    {
     "data": {
      "text/plain": [
       "14                      [united states of america]\n",
       "53                      [united states of america]\n",
       "2       [united kingdom, united states of america]\n",
       "9                       [united states of america]\n",
       "119                     [united states of america]\n",
       "                           ...                    \n",
       "519                     [united states of america]\n",
       "1454                    [united states of america]\n",
       "1199                    [united states of america]\n",
       "1174                    [united states of america]\n",
       "912                     [united states of america]\n",
       "Name: production_countries, Length: 2088, dtype: object"
      ]
     },
     "execution_count": 691,
     "metadata": {},
     "output_type": "execute_result"
    }
   ],
   "source": [
    "df['production_countries'] = df['production_countries'].str.lower().str.split(\", \")\n",
    "df['production_countries']"
   ]
  },
  {
   "cell_type": "code",
   "execution_count": 797,
   "metadata": {},
   "outputs": [],
   "source": [
    "genres = df[\"genres\"].tolist()\n",
    "keywords = df[\"keywords\"].tolist()\n",
    "production_countries = df['production_companies'].tolist()\n",
    "production_companies = df['production_countries'].tolist()\n",
    "GENRE_VECTOR_SIZE = 10\n",
    "KEYWORDS_VECTOR_SIZE = 10\n",
    "PRODUCTION_COMP_VECTOR_SIZE = 5\n",
    "PRODUCTION_COUNT_VECTOR_SIZE = 5\n",
    "w2v_genre = Word2Vec(sentences=genres, \n",
    "                     vector_size=GENRE_VECTOR_SIZE,\n",
    "                     window=5,\n",
    "                     min_count=100,\n",
    "                     workers=4,\n",
    "                     sg=1)\n",
    "\n",
    "w2v_keywords = Word2Vec(sentences=keywords,\n",
    "                        vector_size=KEYWORDS_VECTOR_SIZE,\n",
    "                        window=5,\n",
    "                        min_count=50,\n",
    "                        workers=4,\n",
    "                        sg=1)\n",
    "w2v_production_comp = Word2Vec(sentences=production_countries,\n",
    "                          vector_size=PRODUCTION_COMP_VECTOR_SIZE,\n",
    "                          window=5,\n",
    "                          min_count=5,\n",
    "                          workers=4,\n",
    "                          sg=1)\n",
    "w2v_production_count = Word2Vec(sentences=production_companies,\n",
    "                       vector_size=PRODUCTION_COUNT_VECTOR_SIZE,\n",
    "                       window=5,\n",
    "                       min_count=100,\n",
    "                       workers=4,\n",
    "                       sg=1)"
   ]
  },
  {
   "cell_type": "code",
   "execution_count": 798,
   "metadata": {},
   "outputs": [],
   "source": [
    "def get_average_embedding(words, model, vector_size):\n",
    "    vectors = [model.wv[word] for word in words if word in model.wv]\n",
    "    return np.mean(vectors, axis=0) if vectors else np.zeros(vector_size)"
   ]
  },
  {
   "cell_type": "code",
   "execution_count": 799,
   "metadata": {},
   "outputs": [],
   "source": [
    "df[\"genre_embedding\"] = df[\"genres\"].apply(lambda words: get_average_embedding(words, w2v_genre, GENRE_VECTOR_SIZE))\n",
    "df[\"keywords_embedding\"] = df[\"keywords\"].apply(lambda words: get_average_embedding(words, w2v_keywords, KEYWORDS_VECTOR_SIZE))\n",
    "df['production_comp_embedding'] = df['production_companies'].apply(lambda words: get_average_embedding(words, w2v_production_comp, PRODUCTION_COMP_VECTOR_SIZE))\n",
    "df['production_count_embedding'] = df['production_countries'].apply(lambda words: get_average_embedding(words, w2v_production_count, PRODUCTION_COUNT_VECTOR_SIZE))\n"
   ]
  },
  {
   "cell_type": "code",
   "execution_count": 800,
   "metadata": {},
   "outputs": [],
   "source": [
    "ratings_scaler = StandardScaler()\n",
    "pop_scaler = StandardScaler()\n",
    "ohe = OneHotEncoder(sparse_output=False)\n",
    "\n",
    "ratings_scaled = ratings_scaler.fit_transform(df[[\"weighted_rating\"]])\n",
    "genre_embed = np.array(df[\"genre_embedding\"].tolist())\n",
    "keyword_embed = np.array(df[\"keywords_embedding\"].tolist())\n",
    "production_comp_embed = np.array(df['production_comp_embedding'].tolist())\n",
    "production_count_embed = np.array(df['production_count_embedding'].tolist())\n",
    "year_encoded = ohe.fit_transform(df[[\"release_year\"]])\n",
    "popularity_scaled = pop_scaler.fit_transform(df[['popularity']])"
   ]
  },
  {
   "cell_type": "code",
   "execution_count": 801,
   "metadata": {},
   "outputs": [],
   "source": [
    "features = np.hstack([keyword_embed, genre_embed, production_comp_embed, production_count_embed])"
   ]
  },
  {
   "cell_type": "code",
   "execution_count": 802,
   "metadata": {},
   "outputs": [
    {
     "data": {
      "text/html": [
       "<style>#sk-container-id-42 {color: black;background-color: white;}#sk-container-id-42 pre{padding: 0;}#sk-container-id-42 div.sk-toggleable {background-color: white;}#sk-container-id-42 label.sk-toggleable__label {cursor: pointer;display: block;width: 100%;margin-bottom: 0;padding: 0.3em;box-sizing: border-box;text-align: center;}#sk-container-id-42 label.sk-toggleable__label-arrow:before {content: \"▸\";float: left;margin-right: 0.25em;color: #696969;}#sk-container-id-42 label.sk-toggleable__label-arrow:hover:before {color: black;}#sk-container-id-42 div.sk-estimator:hover label.sk-toggleable__label-arrow:before {color: black;}#sk-container-id-42 div.sk-toggleable__content {max-height: 0;max-width: 0;overflow: hidden;text-align: left;background-color: #f0f8ff;}#sk-container-id-42 div.sk-toggleable__content pre {margin: 0.2em;color: black;border-radius: 0.25em;background-color: #f0f8ff;}#sk-container-id-42 input.sk-toggleable__control:checked~div.sk-toggleable__content {max-height: 200px;max-width: 100%;overflow: auto;}#sk-container-id-42 input.sk-toggleable__control:checked~label.sk-toggleable__label-arrow:before {content: \"▾\";}#sk-container-id-42 div.sk-estimator input.sk-toggleable__control:checked~label.sk-toggleable__label {background-color: #d4ebff;}#sk-container-id-42 div.sk-label input.sk-toggleable__control:checked~label.sk-toggleable__label {background-color: #d4ebff;}#sk-container-id-42 input.sk-hidden--visually {border: 0;clip: rect(1px 1px 1px 1px);clip: rect(1px, 1px, 1px, 1px);height: 1px;margin: -1px;overflow: hidden;padding: 0;position: absolute;width: 1px;}#sk-container-id-42 div.sk-estimator {font-family: monospace;background-color: #f0f8ff;border: 1px dotted black;border-radius: 0.25em;box-sizing: border-box;margin-bottom: 0.5em;}#sk-container-id-42 div.sk-estimator:hover {background-color: #d4ebff;}#sk-container-id-42 div.sk-parallel-item::after {content: \"\";width: 100%;border-bottom: 1px solid gray;flex-grow: 1;}#sk-container-id-42 div.sk-label:hover label.sk-toggleable__label {background-color: #d4ebff;}#sk-container-id-42 div.sk-serial::before {content: \"\";position: absolute;border-left: 1px solid gray;box-sizing: border-box;top: 0;bottom: 0;left: 50%;z-index: 0;}#sk-container-id-42 div.sk-serial {display: flex;flex-direction: column;align-items: center;background-color: white;padding-right: 0.2em;padding-left: 0.2em;position: relative;}#sk-container-id-42 div.sk-item {position: relative;z-index: 1;}#sk-container-id-42 div.sk-parallel {display: flex;align-items: stretch;justify-content: center;background-color: white;position: relative;}#sk-container-id-42 div.sk-item::before, #sk-container-id-42 div.sk-parallel-item::before {content: \"\";position: absolute;border-left: 1px solid gray;box-sizing: border-box;top: 0;bottom: 0;left: 50%;z-index: -1;}#sk-container-id-42 div.sk-parallel-item {display: flex;flex-direction: column;z-index: 1;position: relative;background-color: white;}#sk-container-id-42 div.sk-parallel-item:first-child::after {align-self: flex-end;width: 50%;}#sk-container-id-42 div.sk-parallel-item:last-child::after {align-self: flex-start;width: 50%;}#sk-container-id-42 div.sk-parallel-item:only-child::after {width: 0;}#sk-container-id-42 div.sk-dashed-wrapped {border: 1px dashed gray;margin: 0 0.4em 0.5em 0.4em;box-sizing: border-box;padding-bottom: 0.4em;background-color: white;}#sk-container-id-42 div.sk-label label {font-family: monospace;font-weight: bold;display: inline-block;line-height: 1.2em;}#sk-container-id-42 div.sk-label-container {text-align: center;}#sk-container-id-42 div.sk-container {/* jupyter's `normalize.less` sets `[hidden] { display: none; }` but bootstrap.min.css set `[hidden] { display: none !important; }` so we also need the `!important` here to be able to override the default hidden behavior on the sphinx rendered scikit-learn.org. See: https://github.com/scikit-learn/scikit-learn/issues/21755 */display: inline-block !important;position: relative;}#sk-container-id-42 div.sk-text-repr-fallback {display: none;}</style><div id=\"sk-container-id-42\" class=\"sk-top-container\"><div class=\"sk-text-repr-fallback\"><pre>NearestNeighbors(metric=&#x27;cosine&#x27;, n_neighbors=7)</pre><b>In a Jupyter environment, please rerun this cell to show the HTML representation or trust the notebook. <br />On GitHub, the HTML representation is unable to render, please try loading this page with nbviewer.org.</b></div><div class=\"sk-container\" hidden><div class=\"sk-item\"><div class=\"sk-estimator sk-toggleable\"><input class=\"sk-toggleable__control sk-hidden--visually\" id=\"sk-estimator-id-42\" type=\"checkbox\" checked><label for=\"sk-estimator-id-42\" class=\"sk-toggleable__label sk-toggleable__label-arrow\">NearestNeighbors</label><div class=\"sk-toggleable__content\"><pre>NearestNeighbors(metric=&#x27;cosine&#x27;, n_neighbors=7)</pre></div></div></div></div></div>"
      ],
      "text/plain": [
       "NearestNeighbors(metric='cosine', n_neighbors=7)"
      ]
     },
     "execution_count": 802,
     "metadata": {},
     "output_type": "execute_result"
    }
   ],
   "source": [
    "model = NearestNeighbors(n_neighbors=7, metric=\"cosine\")\n",
    "model.fit(features)"
   ]
  },
  {
   "cell_type": "code",
   "execution_count": 832,
   "metadata": {},
   "outputs": [],
   "source": [
    "title_to_index = {title: idx for idx, title in enumerate(df[\"title\"])}\n",
    "idx = title_to_index['Pride & Prejudice']"
   ]
  },
  {
   "cell_type": "code",
   "execution_count": 833,
   "metadata": {},
   "outputs": [
    {
     "data": {
      "text/plain": [
       "['Atonement',\n",
       " 'The Reader',\n",
       " 'About a Boy',\n",
       " 'Anna Karenina',\n",
       " 'O Brother, Where Art Thou?',\n",
       " 'A Simple Favor']"
      ]
     },
     "execution_count": 833,
     "metadata": {},
     "output_type": "execute_result"
    }
   ],
   "source": [
    "distances, indices = model.kneighbors([features[idx]])\n",
    "recommended = df.iloc[indices[0][1:]][\"title\"].tolist()\n",
    "recommended"
   ]
  },
  {
   "cell_type": "code",
   "execution_count": 821,
   "metadata": {},
   "outputs": [],
   "source": [
    "df = df.reset_index()"
   ]
  },
  {
   "cell_type": "code",
   "execution_count": 822,
   "metadata": {},
   "outputs": [],
   "source": [
    "df[[\"title\", \"poster_path\", \"imdb_id\", \"vote_average\"]].to_csv(\"./data/indexed_movies.csv\")"
   ]
  },
  {
   "cell_type": "code",
   "execution_count": 823,
   "metadata": {},
   "outputs": [],
   "source": [
    "np.save(\"./data/features.npy\", features)"
   ]
  },
  {
   "cell_type": "code",
   "execution_count": 824,
   "metadata": {},
   "outputs": [],
   "source": [
    "df.drop(columns=[\"title\", \"poster_path\", \"imdb_id\"]).to_csv(\"./data/movies_metadata.csv\")"
   ]
  },
  {
   "cell_type": "code",
   "execution_count": 825,
   "metadata": {},
   "outputs": [],
   "source": [
    "import pickle\n",
    "with open(\"./data/model.pkl\", \"wb\") as file:\n",
    "  pickle.dump(model, file)\n"
   ]
  },
  {
   "cell_type": "code",
   "execution_count": 611,
   "metadata": {},
   "outputs": [],
   "source": [
    "import pickle\n",
    "with open(\"./data/model.pkl\", \"rb\") as file:\n",
    "  model = pickle.load(file)"
   ]
  },
  {
   "cell_type": "code",
   "execution_count": 612,
   "metadata": {},
   "outputs": [],
   "source": [
    "features = np.load(\"./data/features.npy\")"
   ]
  },
  {
   "cell_type": "code",
   "execution_count": 613,
   "metadata": {},
   "outputs": [],
   "source": [
    "df = pd.read_csv(\"./data/indexed_movies.csv\")"
   ]
  }
 ],
 "metadata": {
  "kernelspec": {
   "display_name": "base",
   "language": "python",
   "name": "python3"
  },
  "language_info": {
   "codemirror_mode": {
    "name": "ipython",
    "version": 3
   },
   "file_extension": ".py",
   "mimetype": "text/x-python",
   "name": "python",
   "nbconvert_exporter": "python",
   "pygments_lexer": "ipython3",
   "version": "3.11.7"
  }
 },
 "nbformat": 4,
 "nbformat_minor": 2
}
